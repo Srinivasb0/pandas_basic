{
 "cells": [
  {
   "cell_type": "code",
   "execution_count": 1,
   "metadata": {},
   "outputs": [],
   "source": [
    "import pandas as pd\n",
    "\n",
    "movies = pd.read_csv('movies.csv', error_bad_lines=False)"
   ]
  },
  {
   "cell_type": "markdown",
   "metadata": {},
   "source": [
    "### Selecting Rows and Columns"
   ]
  },
  {
   "cell_type": "markdown",
   "metadata": {},
   "source": [
    "With loc and .iloc we can select the rows based on the labels so reset the index to film name by using set_index"
   ]
  },
  {
   "cell_type": "code",
   "execution_count": 3,
   "metadata": {},
   "outputs": [],
   "source": [
    "movies.set_index('Film', inplace=True)"
   ]
  },
  {
   "cell_type": "code",
   "execution_count": 5,
   "metadata": {},
   "outputs": [
    {
     "data": {
      "text/html": [
       "<div>\n",
       "<style scoped>\n",
       "    .dataframe tbody tr th:only-of-type {\n",
       "        vertical-align: middle;\n",
       "    }\n",
       "\n",
       "    .dataframe tbody tr th {\n",
       "        vertical-align: top;\n",
       "    }\n",
       "\n",
       "    .dataframe thead th {\n",
       "        text-align: right;\n",
       "    }\n",
       "</style>\n",
       "<table border=\"1\" class=\"dataframe\">\n",
       "  <thead>\n",
       "    <tr style=\"text-align: right;\">\n",
       "      <th></th>\n",
       "      <th>Genre</th>\n",
       "      <th>Lead Studio</th>\n",
       "      <th>Audience score %</th>\n",
       "      <th>Profitability</th>\n",
       "      <th>Rotten Tomatoes %</th>\n",
       "      <th>Worldwide Gross</th>\n",
       "      <th>Year</th>\n",
       "    </tr>\n",
       "    <tr>\n",
       "      <th>Film</th>\n",
       "      <th></th>\n",
       "      <th></th>\n",
       "      <th></th>\n",
       "      <th></th>\n",
       "      <th></th>\n",
       "      <th></th>\n",
       "      <th></th>\n",
       "    </tr>\n",
       "  </thead>\n",
       "  <tbody>\n",
       "    <tr>\n",
       "      <th>Zack and Miri Make a Porno</th>\n",
       "      <td>Romance</td>\n",
       "      <td>The Weinstein Company</td>\n",
       "      <td>70</td>\n",
       "      <td>1.747542</td>\n",
       "      <td>64</td>\n",
       "      <td>$41.94</td>\n",
       "      <td>2008</td>\n",
       "    </tr>\n",
       "    <tr>\n",
       "      <th>Youth in Revolt</th>\n",
       "      <td>Comedy</td>\n",
       "      <td>The Weinstein Company</td>\n",
       "      <td>52</td>\n",
       "      <td>1.090000</td>\n",
       "      <td>68</td>\n",
       "      <td>$19.62</td>\n",
       "      <td>2010</td>\n",
       "    </tr>\n",
       "    <tr>\n",
       "      <th>You Will Meet a Tall Dark Stranger</th>\n",
       "      <td>Comedy</td>\n",
       "      <td>Independent</td>\n",
       "      <td>35</td>\n",
       "      <td>1.211818</td>\n",
       "      <td>43</td>\n",
       "      <td>$26.66</td>\n",
       "      <td>2010</td>\n",
       "    </tr>\n",
       "    <tr>\n",
       "      <th>When in Rome</th>\n",
       "      <td>Comedy</td>\n",
       "      <td>Disney</td>\n",
       "      <td>44</td>\n",
       "      <td>0.000000</td>\n",
       "      <td>15</td>\n",
       "      <td>$43.04</td>\n",
       "      <td>2010</td>\n",
       "    </tr>\n",
       "    <tr>\n",
       "      <th>What Happens in Vegas</th>\n",
       "      <td>Comedy</td>\n",
       "      <td>Fox</td>\n",
       "      <td>72</td>\n",
       "      <td>6.267647</td>\n",
       "      <td>28</td>\n",
       "      <td>$219.37</td>\n",
       "      <td>2008</td>\n",
       "    </tr>\n",
       "  </tbody>\n",
       "</table>\n",
       "</div>"
      ],
      "text/plain": [
       "                                      Genre            Lead Studio  \\\n",
       "Film                                                                 \n",
       "Zack and Miri Make a Porno          Romance  The Weinstein Company   \n",
       "Youth in Revolt                      Comedy  The Weinstein Company   \n",
       "You Will Meet a Tall Dark Stranger   Comedy            Independent   \n",
       "When in Rome                         Comedy                 Disney   \n",
       "What Happens in Vegas                Comedy                    Fox   \n",
       "\n",
       "                                    Audience score %  Profitability  \\\n",
       "Film                                                                  \n",
       "Zack and Miri Make a Porno                        70       1.747542   \n",
       "Youth in Revolt                                   52       1.090000   \n",
       "You Will Meet a Tall Dark Stranger                35       1.211818   \n",
       "When in Rome                                      44       0.000000   \n",
       "What Happens in Vegas                             72       6.267647   \n",
       "\n",
       "                                    Rotten Tomatoes % Worldwide Gross  Year  \n",
       "Film                                                                         \n",
       "Zack and Miri Make a Porno                         64         $41.94   2008  \n",
       "Youth in Revolt                                    68         $19.62   2010  \n",
       "You Will Meet a Tall Dark Stranger                 43         $26.66   2010  \n",
       "When in Rome                                       15         $43.04   2010  \n",
       "What Happens in Vegas                              28        $219.37   2008  "
      ]
     },
     "metadata": {},
     "output_type": "display_data"
    }
   ],
   "source": [
    "display(movies.head())"
   ]
  },
  {
   "cell_type": "markdown",
   "metadata": {},
   "source": [
    "To select the third row in movies DataFrame,  pass number 2 to the .iloc indexer"
   ]
  },
  {
   "cell_type": "code",
   "execution_count": 8,
   "metadata": {},
   "outputs": [
    {
     "data": {
      "text/plain": [
       "Genre                     Comedy\n",
       "Lead Studio          Independent\n",
       "Audience score %              35\n",
       "Profitability            1.21182\n",
       "Rotten Tomatoes %             43\n",
       "Worldwide Gross          $26.66 \n",
       "Year                        2010\n",
       "Name: You Will Meet a Tall Dark Stranger, dtype: object"
      ]
     },
     "metadata": {},
     "output_type": "display_data"
    }
   ],
   "source": [
    "display(movies.iloc[2])"
   ]
  },
  {
   "cell_type": "markdown",
   "metadata": {},
   "source": [
    "To do the same thing, I use the .loc indexer"
   ]
  },
  {
   "cell_type": "code",
   "execution_count": 9,
   "metadata": {},
   "outputs": [
    {
     "data": {
      "text/plain": [
       "Genre                     Comedy\n",
       "Lead Studio          Independent\n",
       "Audience score %              35\n",
       "Profitability            1.21182\n",
       "Rotten Tomatoes %             43\n",
       "Worldwide Gross          $26.66 \n",
       "Year                        2010\n",
       "Name: You Will Meet a Tall Dark Stranger, dtype: object"
      ]
     },
     "metadata": {},
     "output_type": "display_data"
    }
   ],
   "source": [
    "display(movies.loc['You Will Meet a Tall Dark Stranger'])"
   ]
  },
  {
   "cell_type": "markdown",
   "metadata": {},
   "source": [
    "To select rows with different index positions,  pass a list to the .iloc indexer."
   ]
  },
  {
   "cell_type": "code",
   "execution_count": 10,
   "metadata": {},
   "outputs": [
    {
     "data": {
      "text/html": [
       "<div>\n",
       "<style scoped>\n",
       "    .dataframe tbody tr th:only-of-type {\n",
       "        vertical-align: middle;\n",
       "    }\n",
       "\n",
       "    .dataframe tbody tr th {\n",
       "        vertical-align: top;\n",
       "    }\n",
       "\n",
       "    .dataframe thead th {\n",
       "        text-align: right;\n",
       "    }\n",
       "</style>\n",
       "<table border=\"1\" class=\"dataframe\">\n",
       "  <thead>\n",
       "    <tr style=\"text-align: right;\">\n",
       "      <th></th>\n",
       "      <th>Genre</th>\n",
       "      <th>Lead Studio</th>\n",
       "      <th>Audience score %</th>\n",
       "      <th>Profitability</th>\n",
       "      <th>Rotten Tomatoes %</th>\n",
       "      <th>Worldwide Gross</th>\n",
       "      <th>Year</th>\n",
       "    </tr>\n",
       "    <tr>\n",
       "      <th>Film</th>\n",
       "      <th></th>\n",
       "      <th></th>\n",
       "      <th></th>\n",
       "      <th></th>\n",
       "      <th></th>\n",
       "      <th></th>\n",
       "      <th></th>\n",
       "    </tr>\n",
       "  </thead>\n",
       "  <tbody>\n",
       "    <tr>\n",
       "      <th>Youth in Revolt</th>\n",
       "      <td>Comedy</td>\n",
       "      <td>The Weinstein Company</td>\n",
       "      <td>52</td>\n",
       "      <td>1.090000</td>\n",
       "      <td>68</td>\n",
       "      <td>$19.62</td>\n",
       "      <td>2010</td>\n",
       "    </tr>\n",
       "    <tr>\n",
       "      <th>When in Rome</th>\n",
       "      <td>Comedy</td>\n",
       "      <td>Disney</td>\n",
       "      <td>44</td>\n",
       "      <td>0.000000</td>\n",
       "      <td>15</td>\n",
       "      <td>$43.04</td>\n",
       "      <td>2010</td>\n",
       "    </tr>\n",
       "    <tr>\n",
       "      <th>Waitress</th>\n",
       "      <td>Romance</td>\n",
       "      <td>Independent</td>\n",
       "      <td>67</td>\n",
       "      <td>11.089741</td>\n",
       "      <td>89</td>\n",
       "      <td>$22.18</td>\n",
       "      <td>2007</td>\n",
       "    </tr>\n",
       "  </tbody>\n",
       "</table>\n",
       "</div>"
      ],
      "text/plain": [
       "                   Genre            Lead Studio  Audience score %  \\\n",
       "Film                                                                \n",
       "Youth in Revolt   Comedy  The Weinstein Company                52   \n",
       "When in Rome      Comedy                 Disney                44   \n",
       "Waitress         Romance            Independent                67   \n",
       "\n",
       "                 Profitability  Rotten Tomatoes % Worldwide Gross  Year  \n",
       "Film                                                                     \n",
       "Youth in Revolt       1.090000                 68         $19.62   2010  \n",
       "When in Rome          0.000000                 15         $43.04   2010  \n",
       "Waitress             11.089741                 89         $22.18   2007  "
      ]
     },
     "metadata": {},
     "output_type": "display_data"
    }
   ],
   "source": [
    "display(movies.iloc[[1, 3, 7]])"
   ]
  },
  {
   "cell_type": "markdown",
   "metadata": {},
   "source": [
    "### Selecting Rows and Columns simultaneously"
   ]
  },
  {
   "cell_type": "code",
   "execution_count": 11,
   "metadata": {},
   "outputs": [
    {
     "data": {
      "text/html": [
       "<div>\n",
       "<style scoped>\n",
       "    .dataframe tbody tr th:only-of-type {\n",
       "        vertical-align: middle;\n",
       "    }\n",
       "\n",
       "    .dataframe tbody tr th {\n",
       "        vertical-align: top;\n",
       "    }\n",
       "\n",
       "    .dataframe thead th {\n",
       "        text-align: right;\n",
       "    }\n",
       "</style>\n",
       "<table border=\"1\" class=\"dataframe\">\n",
       "  <thead>\n",
       "    <tr style=\"text-align: right;\">\n",
       "      <th></th>\n",
       "      <th>Profitability</th>\n",
       "      <th>Rotten Tomatoes %</th>\n",
       "      <th>Worldwide Gross</th>\n",
       "    </tr>\n",
       "    <tr>\n",
       "      <th>Film</th>\n",
       "      <th></th>\n",
       "      <th></th>\n",
       "      <th></th>\n",
       "    </tr>\n",
       "  </thead>\n",
       "  <tbody>\n",
       "    <tr>\n",
       "      <th>Zack and Miri Make a Porno</th>\n",
       "      <td>1.747542</td>\n",
       "      <td>64</td>\n",
       "      <td>$41.94</td>\n",
       "    </tr>\n",
       "    <tr>\n",
       "      <th>Youth in Revolt</th>\n",
       "      <td>1.090000</td>\n",
       "      <td>68</td>\n",
       "      <td>$19.62</td>\n",
       "    </tr>\n",
       "    <tr>\n",
       "      <th>You Will Meet a Tall Dark Stranger</th>\n",
       "      <td>1.211818</td>\n",
       "      <td>43</td>\n",
       "      <td>$26.66</td>\n",
       "    </tr>\n",
       "    <tr>\n",
       "      <th>When in Rome</th>\n",
       "      <td>0.000000</td>\n",
       "      <td>15</td>\n",
       "      <td>$43.04</td>\n",
       "    </tr>\n",
       "    <tr>\n",
       "      <th>What Happens in Vegas</th>\n",
       "      <td>6.267647</td>\n",
       "      <td>28</td>\n",
       "      <td>$219.37</td>\n",
       "    </tr>\n",
       "  </tbody>\n",
       "</table>\n",
       "</div>"
      ],
      "text/plain": [
       "                                    Profitability  Rotten Tomatoes %  \\\n",
       "Film                                                                   \n",
       "Zack and Miri Make a Porno               1.747542                 64   \n",
       "Youth in Revolt                          1.090000                 68   \n",
       "You Will Meet a Tall Dark Stranger       1.211818                 43   \n",
       "When in Rome                             0.000000                 15   \n",
       "What Happens in Vegas                    6.267647                 28   \n",
       "\n",
       "                                   Worldwide Gross  \n",
       "Film                                                \n",
       "Zack and Miri Make a Porno                 $41.94   \n",
       "Youth in Revolt                            $19.62   \n",
       "You Will Meet a Tall Dark Stranger         $26.66   \n",
       "When in Rome                               $43.04   \n",
       "What Happens in Vegas                     $219.37   "
      ]
     },
     "execution_count": 11,
     "metadata": {},
     "output_type": "execute_result"
    }
   ],
   "source": [
    "movies.iloc[:, [3, 4, 5]].head()"
   ]
  },
  {
   "cell_type": "markdown",
   "metadata": {},
   "source": [
    "### Selecting a single column"
   ]
  },
  {
   "cell_type": "code",
   "execution_count": 13,
   "metadata": {},
   "outputs": [
    {
     "data": {
      "text/plain": [
       "Film\n",
       "Zack and Miri Make a Porno            1.747542\n",
       "Youth in Revolt                       1.090000\n",
       "You Will Meet a Tall Dark Stranger    1.211818\n",
       "When in Rome                          0.000000\n",
       "What Happens in Vegas                 6.267647\n",
       "                                        ...   \n",
       "Across the Universe                   0.652603\n",
       "A Serious Man                         4.382857\n",
       "A Dangerous Method                    0.448645\n",
       "27 Dresses                            5.343622\n",
       "(500) Days of Summer                  8.096000\n",
       "Name: Profitability, Length: 77, dtype: float64"
      ]
     },
     "execution_count": 13,
     "metadata": {},
     "output_type": "execute_result"
    }
   ],
   "source": [
    "movies['Profitability']"
   ]
  },
  {
   "cell_type": "markdown",
   "metadata": {},
   "source": [
    "### selecting multiple columns"
   ]
  },
  {
   "cell_type": "code",
   "execution_count": 14,
   "metadata": {},
   "outputs": [
    {
     "data": {
      "text/html": [
       "<div>\n",
       "<style scoped>\n",
       "    .dataframe tbody tr th:only-of-type {\n",
       "        vertical-align: middle;\n",
       "    }\n",
       "\n",
       "    .dataframe tbody tr th {\n",
       "        vertical-align: top;\n",
       "    }\n",
       "\n",
       "    .dataframe thead th {\n",
       "        text-align: right;\n",
       "    }\n",
       "</style>\n",
       "<table border=\"1\" class=\"dataframe\">\n",
       "  <thead>\n",
       "    <tr style=\"text-align: right;\">\n",
       "      <th></th>\n",
       "      <th>Profitability</th>\n",
       "      <th>Worldwide Gross</th>\n",
       "    </tr>\n",
       "    <tr>\n",
       "      <th>Film</th>\n",
       "      <th></th>\n",
       "      <th></th>\n",
       "    </tr>\n",
       "  </thead>\n",
       "  <tbody>\n",
       "    <tr>\n",
       "      <th>Zack and Miri Make a Porno</th>\n",
       "      <td>1.747542</td>\n",
       "      <td>$41.94</td>\n",
       "    </tr>\n",
       "    <tr>\n",
       "      <th>Youth in Revolt</th>\n",
       "      <td>1.090000</td>\n",
       "      <td>$19.62</td>\n",
       "    </tr>\n",
       "    <tr>\n",
       "      <th>You Will Meet a Tall Dark Stranger</th>\n",
       "      <td>1.211818</td>\n",
       "      <td>$26.66</td>\n",
       "    </tr>\n",
       "    <tr>\n",
       "      <th>When in Rome</th>\n",
       "      <td>0.000000</td>\n",
       "      <td>$43.04</td>\n",
       "    </tr>\n",
       "    <tr>\n",
       "      <th>What Happens in Vegas</th>\n",
       "      <td>6.267647</td>\n",
       "      <td>$219.37</td>\n",
       "    </tr>\n",
       "  </tbody>\n",
       "</table>\n",
       "</div>"
      ],
      "text/plain": [
       "                                    Profitability Worldwide Gross\n",
       "Film                                                             \n",
       "Zack and Miri Make a Porno               1.747542         $41.94 \n",
       "Youth in Revolt                          1.090000         $19.62 \n",
       "You Will Meet a Tall Dark Stranger       1.211818         $26.66 \n",
       "When in Rome                             0.000000         $43.04 \n",
       "What Happens in Vegas                    6.267647        $219.37 "
      ]
     },
     "execution_count": 14,
     "metadata": {},
     "output_type": "execute_result"
    }
   ],
   "source": [
    "movies[['Profitability', 'Worldwide Gross']].head()"
   ]
  },
  {
   "cell_type": "markdown",
   "metadata": {},
   "source": [
    "### selecting columns with index"
   ]
  },
  {
   "cell_type": "code",
   "execution_count": 15,
   "metadata": {},
   "outputs": [
    {
     "data": {
      "text/plain": [
       "Film\n",
       "Zack and Miri Make a Porno            70\n",
       "Youth in Revolt                       52\n",
       "You Will Meet a Tall Dark Stranger    35\n",
       "When in Rome                          44\n",
       "What Happens in Vegas                 72\n",
       "                                      ..\n",
       "Across the Universe                   84\n",
       "A Serious Man                         64\n",
       "A Dangerous Method                    89\n",
       "27 Dresses                            71\n",
       "(500) Days of Summer                  81\n",
       "Name: Audience score %, Length: 77, dtype: int64"
      ]
     },
     "execution_count": 15,
     "metadata": {},
     "output_type": "execute_result"
    }
   ],
   "source": [
    "movies.iloc[:, 2]"
   ]
  },
  {
   "cell_type": "markdown",
   "metadata": {},
   "source": [
    "### selecting range of columns with index"
   ]
  },
  {
   "cell_type": "code",
   "execution_count": 16,
   "metadata": {},
   "outputs": [
    {
     "data": {
      "text/html": [
       "<div>\n",
       "<style scoped>\n",
       "    .dataframe tbody tr th:only-of-type {\n",
       "        vertical-align: middle;\n",
       "    }\n",
       "\n",
       "    .dataframe tbody tr th {\n",
       "        vertical-align: top;\n",
       "    }\n",
       "\n",
       "    .dataframe thead th {\n",
       "        text-align: right;\n",
       "    }\n",
       "</style>\n",
       "<table border=\"1\" class=\"dataframe\">\n",
       "  <thead>\n",
       "    <tr style=\"text-align: right;\">\n",
       "      <th></th>\n",
       "      <th>Genre</th>\n",
       "      <th>Lead Studio</th>\n",
       "    </tr>\n",
       "    <tr>\n",
       "      <th>Film</th>\n",
       "      <th></th>\n",
       "      <th></th>\n",
       "    </tr>\n",
       "  </thead>\n",
       "  <tbody>\n",
       "    <tr>\n",
       "      <th>Zack and Miri Make a Porno</th>\n",
       "      <td>Romance</td>\n",
       "      <td>The Weinstein Company</td>\n",
       "    </tr>\n",
       "    <tr>\n",
       "      <th>Youth in Revolt</th>\n",
       "      <td>Comedy</td>\n",
       "      <td>The Weinstein Company</td>\n",
       "    </tr>\n",
       "    <tr>\n",
       "      <th>You Will Meet a Tall Dark Stranger</th>\n",
       "      <td>Comedy</td>\n",
       "      <td>Independent</td>\n",
       "    </tr>\n",
       "    <tr>\n",
       "      <th>When in Rome</th>\n",
       "      <td>Comedy</td>\n",
       "      <td>Disney</td>\n",
       "    </tr>\n",
       "    <tr>\n",
       "      <th>What Happens in Vegas</th>\n",
       "      <td>Comedy</td>\n",
       "      <td>Fox</td>\n",
       "    </tr>\n",
       "  </tbody>\n",
       "</table>\n",
       "</div>"
      ],
      "text/plain": [
       "                                      Genre            Lead Studio\n",
       "Film                                                              \n",
       "Zack and Miri Make a Porno          Romance  The Weinstein Company\n",
       "Youth in Revolt                      Comedy  The Weinstein Company\n",
       "You Will Meet a Tall Dark Stranger   Comedy            Independent\n",
       "When in Rome                         Comedy                 Disney\n",
       "What Happens in Vegas                Comedy                    Fox"
      ]
     },
     "execution_count": 16,
     "metadata": {},
     "output_type": "execute_result"
    }
   ],
   "source": [
    "movies.iloc[:, :2].head()"
   ]
  },
  {
   "cell_type": "markdown",
   "metadata": {},
   "source": [
    "### String Operations"
   ]
  },
  {
   "cell_type": "markdown",
   "metadata": {},
   "source": [
    "Series and Index are equipped with a set of string processing methods that make it easy to operate on each element of the array. Perhaps most importantly, these methods exclude missing/NA values automatically. These are accessed via the str attribute and generally have names matching the equivalent (scalar) built-in string methods"
   ]
  },
  {
   "cell_type": "code",
   "execution_count": 18,
   "metadata": {},
   "outputs": [
    {
     "data": {
      "text/plain": [
       "Film\n",
       "Zack and Miri Make a Porno            ROMANCE\n",
       "Youth in Revolt                        COMEDY\n",
       "You Will Meet a Tall Dark Stranger     COMEDY\n",
       "When in Rome                           COMEDY\n",
       "What Happens in Vegas                  COMEDY\n",
       "                                       ...   \n",
       "Across the Universe                   ROMANCE\n",
       "A Serious Man                           DRAMA\n",
       "A Dangerous Method                      DRAMA\n",
       "27 Dresses                             COMEDY\n",
       "(500) Days of Summer                   COMEDY\n",
       "Name: Genre, Length: 77, dtype: object"
      ]
     },
     "metadata": {},
     "output_type": "display_data"
    }
   ],
   "source": [
    "movies['Genre'] = movies['Genre'].str.upper()\n",
    "display(movies['Genre'])"
   ]
  },
  {
   "cell_type": "code",
   "execution_count": 19,
   "metadata": {},
   "outputs": [
    {
     "data": {
      "text/plain": [
       "Film\n",
       "Zack and Miri Make a Porno            7\n",
       "Youth in Revolt                       6\n",
       "You Will Meet a Tall Dark Stranger    6\n",
       "When in Rome                          6\n",
       "What Happens in Vegas                 6\n",
       "                                     ..\n",
       "Across the Universe                   7\n",
       "A Serious Man                         5\n",
       "A Dangerous Method                    5\n",
       "27 Dresses                            6\n",
       "(500) Days of Summer                  6\n",
       "Name: Genre, Length: 77, dtype: int64"
      ]
     },
     "execution_count": 19,
     "metadata": {},
     "output_type": "execute_result"
    }
   ],
   "source": [
    "movies['Genre'].str.len()"
   ]
  },
  {
   "cell_type": "markdown",
   "metadata": {},
   "source": [
    "The string methods on Index are especially useful for cleaning up or transforming DataFrame columns. For instance, you may have columns with leading or trailing whitespace"
   ]
  },
  {
   "cell_type": "code",
   "execution_count": 20,
   "metadata": {},
   "outputs": [
    {
     "data": {
      "text/plain": [
       "Index(['Column A', 'Column B'], dtype='object')"
      ]
     },
     "execution_count": 20,
     "metadata": {},
     "output_type": "execute_result"
    }
   ],
   "source": [
    "import numpy as np\n",
    "df = pd.DataFrame(np.random.randn(3, 2),columns=[' Column A ', ' Column B '], index=range(3))\n",
    "df.columns.str.strip()"
   ]
  },
  {
   "cell_type": "markdown",
   "metadata": {},
   "source": [
    "These string methods can then be used to clean up the columns as needed. Here we are removing leading and trailing whitespaces, lower casing all names, and replacing any remaining whitespaces with underscores"
   ]
  },
  {
   "cell_type": "code",
   "execution_count": 21,
   "metadata": {},
   "outputs": [],
   "source": [
    "df.columns = df.columns.str.strip().str.lower().str.replace(' ', '_')"
   ]
  },
  {
   "cell_type": "code",
   "execution_count": 22,
   "metadata": {},
   "outputs": [
    {
     "data": {
      "text/html": [
       "<div>\n",
       "<style scoped>\n",
       "    .dataframe tbody tr th:only-of-type {\n",
       "        vertical-align: middle;\n",
       "    }\n",
       "\n",
       "    .dataframe tbody tr th {\n",
       "        vertical-align: top;\n",
       "    }\n",
       "\n",
       "    .dataframe thead th {\n",
       "        text-align: right;\n",
       "    }\n",
       "</style>\n",
       "<table border=\"1\" class=\"dataframe\">\n",
       "  <thead>\n",
       "    <tr style=\"text-align: right;\">\n",
       "      <th></th>\n",
       "      <th>column_a</th>\n",
       "      <th>column_b</th>\n",
       "    </tr>\n",
       "  </thead>\n",
       "  <tbody>\n",
       "    <tr>\n",
       "      <th>0</th>\n",
       "      <td>-0.712127</td>\n",
       "      <td>-0.286342</td>\n",
       "    </tr>\n",
       "    <tr>\n",
       "      <th>1</th>\n",
       "      <td>-0.119727</td>\n",
       "      <td>-1.189909</td>\n",
       "    </tr>\n",
       "    <tr>\n",
       "      <th>2</th>\n",
       "      <td>0.228575</td>\n",
       "      <td>-0.702177</td>\n",
       "    </tr>\n",
       "  </tbody>\n",
       "</table>\n",
       "</div>"
      ],
      "text/plain": [
       "   column_a  column_b\n",
       "0 -0.712127 -0.286342\n",
       "1 -0.119727 -1.189909\n",
       "2  0.228575 -0.702177"
      ]
     },
     "metadata": {},
     "output_type": "display_data"
    }
   ],
   "source": [
    "display(df)"
   ]
  },
  {
   "cell_type": "markdown",
   "metadata": {},
   "source": [
    "### Finding Unique Values"
   ]
  },
  {
   "cell_type": "markdown",
   "metadata": {},
   "source": [
    "Returns the unique values as a NumPy array. In case of an extension-array backed Series, a new ExtensionArray of that type with just the unique values is returned. This includes\n",
    "\n",
    "* Categorical ",
    "\n",
    "* Period ",
    "\n",
    "* Datetime with Timezone ",
    "\n",
    "* Interval ",
    "\n",
    "* Sparse ",
    "\n",
    "* IntegerNA "
   ]
  },
  {
   "cell_type": "code",
   "execution_count": 23,
   "metadata": {},
   "outputs": [
    {
     "data": {
      "text/plain": [
       "array([2, 1, 3])"
      ]
     },
     "execution_count": 23,
     "metadata": {},
     "output_type": "execute_result"
    }
   ],
   "source": [
    "pd.Series([2, 1, 3, 3], name='A').unique()"
   ]
  },
  {
   "cell_type": "code",
   "execution_count": 24,
   "metadata": {},
   "outputs": [
    {
     "data": {
      "text/plain": [
       "array(['2016-01-01T00:00:00.000000000'], dtype='datetime64[ns]')"
      ]
     },
     "execution_count": 24,
     "metadata": {},
     "output_type": "execute_result"
    }
   ],
   "source": [
    "pd.Series([pd.Timestamp('2016-01-01') for _ in range(3)]).unique()"
   ]
  },
  {
   "cell_type": "code",
   "execution_count": 25,
   "metadata": {},
   "outputs": [
    {
     "data": {
      "text/plain": [
       "<DatetimeArray>\n",
       "['2016-01-01 00:00:00-05:00']\n",
       "Length: 1, dtype: datetime64[ns, US/Eastern]"
      ]
     },
     "execution_count": 25,
     "metadata": {},
     "output_type": "execute_result"
    }
   ],
   "source": [
    "pd.Series([pd.Timestamp('2016-01-01', tz='US/Eastern')\n",
    "           for _ in range(3)]).unique()"
   ]
  },
  {
   "cell_type": "markdown",
   "metadata": {},
   "source": [
    "### Drop Duplicates"
   ]
  },
  {
   "cell_type": "markdown",
   "metadata": {},
   "source": [
    "drop_duplicates returns only the dataframe’s unique values. Removing duplicate records is sample"
   ]
  },
  {
   "cell_type": "code",
   "execution_count": 26,
   "metadata": {},
   "outputs": [
    {
     "name": "stdout",
     "output_type": "stream",
     "text": [
      "length of data before removing duplicates 77\n",
      "length of data after removing duplicates 74\n"
     ]
    }
   ],
   "source": [
    "print('length of data before removing duplicates', len(movies))\n",
    "movies = movies.drop_duplicates()\n",
    "print('length of data after removing duplicates', len(movies))"
   ]
  },
  {
   "cell_type": "code",
   "execution_count": 27,
   "metadata": {},
   "outputs": [
    {
     "data": {
      "text/html": [
       "<div>\n",
       "<style scoped>\n",
       "    .dataframe tbody tr th:only-of-type {\n",
       "        vertical-align: middle;\n",
       "    }\n",
       "\n",
       "    .dataframe tbody tr th {\n",
       "        vertical-align: top;\n",
       "    }\n",
       "\n",
       "    .dataframe thead th {\n",
       "        text-align: right;\n",
       "    }\n",
       "</style>\n",
       "<table border=\"1\" class=\"dataframe\">\n",
       "  <thead>\n",
       "    <tr style=\"text-align: right;\">\n",
       "      <th></th>\n",
       "      <th>Name</th>\n",
       "      <th>Age</th>\n",
       "      <th>Sex</th>\n",
       "    </tr>\n",
       "  </thead>\n",
       "  <tbody>\n",
       "    <tr>\n",
       "      <th>0</th>\n",
       "      <td>Jack</td>\n",
       "      <td>21</td>\n",
       "      <td>Male</td>\n",
       "    </tr>\n",
       "    <tr>\n",
       "      <th>1</th>\n",
       "      <td>Ali</td>\n",
       "      <td>28</td>\n",
       "      <td>Female</td>\n",
       "    </tr>\n",
       "    <tr>\n",
       "      <th>2</th>\n",
       "      <td>Phil</td>\n",
       "      <td>40</td>\n",
       "      <td>Male</td>\n",
       "    </tr>\n",
       "    <tr>\n",
       "      <th>3</th>\n",
       "      <td>Jack</td>\n",
       "      <td>21</td>\n",
       "      <td>Male</td>\n",
       "    </tr>\n",
       "  </tbody>\n",
       "</table>\n",
       "</div>"
      ],
      "text/plain": [
       "   Name  Age     Sex\n",
       "0  Jack   21    Male\n",
       "1   Ali   28  Female\n",
       "2  Phil   40    Male\n",
       "3  Jack   21    Male"
      ]
     },
     "metadata": {},
     "output_type": "display_data"
    }
   ],
   "source": [
    "data = {\"Name\": [\"Jack\", \"Ali\", \"Phil\", \"Jack\"],\n",
    "\"Age\": [21, 28, 40, 21],\n",
    "\"Sex\": [\"Male\", \"Female\", \"Male\", \"Male\"]}\n",
    "df = pd.DataFrame(data)\n",
    "display(df)"
   ]
  },
  {
   "cell_type": "code",
   "execution_count": 28,
   "metadata": {},
   "outputs": [
    {
     "data": {
      "text/html": [
       "<div>\n",
       "<style scoped>\n",
       "    .dataframe tbody tr th:only-of-type {\n",
       "        vertical-align: middle;\n",
       "    }\n",
       "\n",
       "    .dataframe tbody tr th {\n",
       "        vertical-align: top;\n",
       "    }\n",
       "\n",
       "    .dataframe thead th {\n",
       "        text-align: right;\n",
       "    }\n",
       "</style>\n",
       "<table border=\"1\" class=\"dataframe\">\n",
       "  <thead>\n",
       "    <tr style=\"text-align: right;\">\n",
       "      <th></th>\n",
       "      <th>Name</th>\n",
       "      <th>Age</th>\n",
       "      <th>Sex</th>\n",
       "    </tr>\n",
       "  </thead>\n",
       "  <tbody>\n",
       "    <tr>\n",
       "      <th>0</th>\n",
       "      <td>Jack</td>\n",
       "      <td>21</td>\n",
       "      <td>Male</td>\n",
       "    </tr>\n",
       "    <tr>\n",
       "      <th>1</th>\n",
       "      <td>Ali</td>\n",
       "      <td>28</td>\n",
       "      <td>Female</td>\n",
       "    </tr>\n",
       "    <tr>\n",
       "      <th>2</th>\n",
       "      <td>Phil</td>\n",
       "      <td>40</td>\n",
       "      <td>Male</td>\n",
       "    </tr>\n",
       "  </tbody>\n",
       "</table>\n",
       "</div>"
      ],
      "text/plain": [
       "   Name  Age     Sex\n",
       "0  Jack   21    Male\n",
       "1   Ali   28  Female\n",
       "2  Phil   40    Male"
      ]
     },
     "metadata": {},
     "output_type": "display_data"
    }
   ],
   "source": [
    "df = df.drop_duplicates()\n",
    "display(df)"
   ]
  },
  {
   "cell_type": "markdown",
   "metadata": {},
   "source": [
    "In our example data, this could be useful if we had two entries for Name = Jack, one with Age = 21 and one with Age = 25. If we know we only want the oldest example for each person, we can sort by Age and drop duplicates of the name column, keeping only the observation with the highest age."
   ]
  },
  {
   "cell_type": "code",
   "execution_count": 29,
   "metadata": {},
   "outputs": [
    {
     "data": {
      "text/html": [
       "<div>\n",
       "<style scoped>\n",
       "    .dataframe tbody tr th:only-of-type {\n",
       "        vertical-align: middle;\n",
       "    }\n",
       "\n",
       "    .dataframe tbody tr th {\n",
       "        vertical-align: top;\n",
       "    }\n",
       "\n",
       "    .dataframe thead th {\n",
       "        text-align: right;\n",
       "    }\n",
       "</style>\n",
       "<table border=\"1\" class=\"dataframe\">\n",
       "  <thead>\n",
       "    <tr style=\"text-align: right;\">\n",
       "      <th></th>\n",
       "      <th>Name</th>\n",
       "      <th>Age</th>\n",
       "      <th>Sex</th>\n",
       "    </tr>\n",
       "  </thead>\n",
       "  <tbody>\n",
       "    <tr>\n",
       "      <th>0</th>\n",
       "      <td>Jack</td>\n",
       "      <td>21</td>\n",
       "      <td>Male</td>\n",
       "    </tr>\n",
       "    <tr>\n",
       "      <th>1</th>\n",
       "      <td>Ali</td>\n",
       "      <td>28</td>\n",
       "      <td>Female</td>\n",
       "    </tr>\n",
       "    <tr>\n",
       "      <th>2</th>\n",
       "      <td>Phil</td>\n",
       "      <td>40</td>\n",
       "      <td>Male</td>\n",
       "    </tr>\n",
       "    <tr>\n",
       "      <th>3</th>\n",
       "      <td>Jack</td>\n",
       "      <td>25</td>\n",
       "      <td>Male</td>\n",
       "    </tr>\n",
       "  </tbody>\n",
       "</table>\n",
       "</div>"
      ],
      "text/plain": [
       "   Name  Age     Sex\n",
       "0  Jack   21    Male\n",
       "1   Ali   28  Female\n",
       "2  Phil   40    Male\n",
       "3  Jack   25    Male"
      ]
     },
     "metadata": {},
     "output_type": "display_data"
    }
   ],
   "source": [
    "data = {\"Name\": [\"Jack\", \"Ali\", \"Phil\", \"Jack\"],\n",
    "\"Age\": [21, 28, 40, 25],\n",
    "\"Sex\": [\"Male\", \"Female\", \"Male\", \"Male\"]}\n",
    "df = pd.DataFrame(data)\n",
    "display(df)"
   ]
  },
  {
   "cell_type": "code",
   "execution_count": 30,
   "metadata": {},
   "outputs": [
    {
     "data": {
      "text/html": [
       "<div>\n",
       "<style scoped>\n",
       "    .dataframe tbody tr th:only-of-type {\n",
       "        vertical-align: middle;\n",
       "    }\n",
       "\n",
       "    .dataframe tbody tr th {\n",
       "        vertical-align: top;\n",
       "    }\n",
       "\n",
       "    .dataframe thead th {\n",
       "        text-align: right;\n",
       "    }\n",
       "</style>\n",
       "<table border=\"1\" class=\"dataframe\">\n",
       "  <thead>\n",
       "    <tr style=\"text-align: right;\">\n",
       "      <th></th>\n",
       "      <th>Name</th>\n",
       "      <th>Age</th>\n",
       "      <th>Sex</th>\n",
       "    </tr>\n",
       "  </thead>\n",
       "  <tbody>\n",
       "    <tr>\n",
       "      <th>2</th>\n",
       "      <td>Phil</td>\n",
       "      <td>40</td>\n",
       "      <td>Male</td>\n",
       "    </tr>\n",
       "    <tr>\n",
       "      <th>1</th>\n",
       "      <td>Ali</td>\n",
       "      <td>28</td>\n",
       "      <td>Female</td>\n",
       "    </tr>\n",
       "    <tr>\n",
       "      <th>3</th>\n",
       "      <td>Jack</td>\n",
       "      <td>25</td>\n",
       "      <td>Male</td>\n",
       "    </tr>\n",
       "  </tbody>\n",
       "</table>\n",
       "</div>"
      ],
      "text/plain": [
       "   Name  Age     Sex\n",
       "2  Phil   40    Male\n",
       "1   Ali   28  Female\n",
       "3  Jack   25    Male"
      ]
     },
     "metadata": {},
     "output_type": "display_data"
    }
   ],
   "source": [
    "df = df.sort_values('Age', ascending=False)\n",
    "df = df.drop_duplicates(subset='Name', keep='first')\n",
    "display(df)"
   ]
  },
  {
   "cell_type": "code",
   "execution_count": null,
   "metadata": {},
   "outputs": [],
   "source": []
  }
 ],
 "metadata": {
  "kernelspec": {
   "display_name": "Python 3",
   "language": "python3",
   "name": "python3"
  },
  "language_info": {
   "codemirror_mode": {
    "name": "ipython",
    "version": 3
   },
   "file_extension": ".py",
   "mimetype": "text/x-python",
   "name": "python",
   "nbconvert_exporter": "python",
   "pygments_lexer": "ipython3",
   "version": "3.6.8"
  }
 },
 "nbformat": 4,
 "nbformat_minor": 2
}
